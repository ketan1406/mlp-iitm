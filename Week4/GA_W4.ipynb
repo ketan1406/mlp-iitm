{
  "nbformat": 4,
  "nbformat_minor": 0,
  "metadata": {
    "colab": {
      "provenance": []
    },
    "kernelspec": {
      "name": "python3",
      "display_name": "Python 3"
    },
    "language_info": {
      "name": "python"
    }
  },
  "cells": [
    {
      "cell_type": "code",
      "execution_count": 1,
      "metadata": {
        "colab": {
          "base_uri": "https://localhost:8080/"
        },
        "id": "nwcOz-2Hy-Ok",
        "outputId": "6d9347e7-2536-4ec3-c546-617a8235c87d"
      },
      "outputs": [
        {
          "output_type": "stream",
          "name": "stdout",
          "text": [
            "\u001b[2K   \u001b[90m━━━━━━━━━━━━━━━━━━━━━━━━━━━━━━━━━━━━━━━━\u001b[0m \u001b[32m9.6/9.6 MB\u001b[0m \u001b[31m20.1 MB/s\u001b[0m eta \u001b[36m0:00:00\u001b[0m\n",
            "\u001b[?25h\u001b[31mERROR: pip's dependency resolver does not currently take into account all the packages that are installed. This behaviour is the source of the following dependency conflicts.\n",
            "mlxtend 0.23.4 requires scikit-learn>=1.3.1, but you have scikit-learn 1.2.2 which is incompatible.\n",
            "imbalanced-learn 0.13.0 requires scikit-learn<2,>=1.3.2, but you have scikit-learn 1.2.2 which is incompatible.\u001b[0m\u001b[31m\n",
            "\u001b[0m"
          ]
        }
      ],
      "source": [
        "# Install the required sklearn version (only needed if not installed)\n",
        "!pip install scikit-learn==1.2.2 --quiet"
      ]
    },
    {
      "cell_type": "code",
      "source": [
        "# Import necessary libraries\n",
        "import numpy as np\n",
        "import pandas as pd\n",
        "import matplotlib.pyplot as plt\n",
        "from sklearn.datasets import fetch_california_housing\n",
        "from sklearn.model_selection import train_test_split\n",
        "from sklearn.preprocessing import StandardScaler\n",
        "from sklearn.linear_model import LinearRegression, SGDRegressor\n",
        "from sklearn.metrics import r2_score, mean_squared_error, mean_absolute_error, explained_variance_score, max_error\n"
      ],
      "metadata": {
        "id": "0kVCPUaOzNdB"
      },
      "execution_count": 2,
      "outputs": []
    },
    {
      "cell_type": "code",
      "source": [
        "# Load the dataset\n",
        "data = fetch_california_housing()\n",
        "X, y = data.data, data.target\n",
        "\n",
        "# Split into training and test sets with given parameters\n",
        "X_train, X_test, y_train, y_test = train_test_split(X, y, test_size=0.2, shuffle=False, random_state=0)\n",
        "\n",
        "# Scale the data using StandardScaler\n",
        "scaler = StandardScaler()\n",
        "X_train_scaled = scaler.fit_transform(X_train)\n",
        "X_test_scaled = scaler.transform(X_test)"
      ],
      "metadata": {
        "id": "n7Mkt9LXzP2P"
      },
      "execution_count": 3,
      "outputs": []
    },
    {
      "cell_type": "markdown",
      "source": [
        "## Question-1"
      ],
      "metadata": {
        "id": "DLJM0DXizam4"
      }
    },
    {
      "cell_type": "code",
      "source": [
        "# Initialize and fit Linear Regression model\n",
        "model = LinearRegression()\n",
        "model.fit(X_train_scaled, y_train)\n",
        "\n",
        "# Predict on the test set\n",
        "y_pred = model.predict(X_test_scaled)\n",
        "\n",
        "# Calculate R^2 Score\n",
        "r2 = r2_score(y_test, y_pred)\n",
        "print(f\"R^2 Score: {r2:.5f}\")"
      ],
      "metadata": {
        "colab": {
          "base_uri": "https://localhost:8080/"
        },
        "id": "ntTh54LizaA-",
        "outputId": "e66af8b6-6443-403f-decf-1b258b3aadbd"
      },
      "execution_count": 13,
      "outputs": [
        {
          "output_type": "stream",
          "name": "stdout",
          "text": [
            "R^2 Score: 0.66051\n"
          ]
        }
      ]
    },
    {
      "cell_type": "markdown",
      "source": [
        "## Question-2"
      ],
      "metadata": {
        "id": "jjtdyYQIzhL6"
      }
    },
    {
      "cell_type": "code",
      "source": [
        "# Compute RMSE\n",
        "rmse = np.sqrt(mean_squared_error(y_test, y_pred))\n",
        "print(f\"Root Mean Squared Error (RMSE): {rmse:.4f}\")\n"
      ],
      "metadata": {
        "colab": {
          "base_uri": "https://localhost:8080/"
        },
        "id": "lQEfCDrjzTzv",
        "outputId": "8b4967d5-03dd-489b-8673-03a1579e9f1e"
      },
      "execution_count": 11,
      "outputs": [
        {
          "output_type": "stream",
          "name": "stdout",
          "text": [
            "Root Mean Squared Error (RMSE): 0.7033\n"
          ]
        }
      ]
    },
    {
      "cell_type": "markdown",
      "source": [
        "## Question-3"
      ],
      "metadata": {
        "id": "Rt_XQaj3znkA"
      }
    },
    {
      "cell_type": "code",
      "source": [
        "# Compute Explained Variance Score\n",
        "explained_var = explained_variance_score(y_test, y_pred)\n",
        "print(f\"Explained Variance Score: {explained_var:.2f}\")"
      ],
      "metadata": {
        "colab": {
          "base_uri": "https://localhost:8080/"
        },
        "id": "trMj1baazjNX",
        "outputId": "36252f4e-23c2-47ca-8fe4-03b883af17bf"
      },
      "execution_count": 10,
      "outputs": [
        {
          "output_type": "stream",
          "name": "stdout",
          "text": [
            "Explained Variance Score: 0.66\n"
          ]
        }
      ]
    },
    {
      "cell_type": "markdown",
      "source": [
        "## Question-4"
      ],
      "metadata": {
        "id": "jaTU1Mdtzw9C"
      }
    },
    {
      "cell_type": "code",
      "source": [
        "# Compute Max Error\n",
        "max_err = max_error(y_test, y_pred)\n",
        "print(f\"Max Error: {max_err:.2f}\")"
      ],
      "metadata": {
        "colab": {
          "base_uri": "https://localhost:8080/"
        },
        "id": "NYhp99M3zq5n",
        "outputId": "0acb91cf-f655-467d-fed0-978b63733900"
      },
      "execution_count": 9,
      "outputs": [
        {
          "output_type": "stream",
          "name": "stdout",
          "text": [
            "Max Error: 7.26\n"
          ]
        }
      ]
    },
    {
      "cell_type": "markdown",
      "source": [
        "## Question-5\n"
      ],
      "metadata": {
        "id": "O_exWg_nz9l6"
      }
    },
    {
      "cell_type": "code",
      "source": [
        "# Compute Mean Absolute Error (MAE)\n",
        "mae = mean_absolute_error(y_test, y_pred)\n",
        "print(f\"Mean Absolute Error: {mae:.3f}\")"
      ],
      "metadata": {
        "colab": {
          "base_uri": "https://localhost:8080/"
        },
        "id": "uPr6MBD_zy7u",
        "outputId": "2ef18cb4-1dc6-43e1-d220-7392b6a71e86"
      },
      "execution_count": 14,
      "outputs": [
        {
          "output_type": "stream",
          "name": "stdout",
          "text": [
            "Mean Absolute Error: 0.517\n"
          ]
        }
      ]
    },
    {
      "cell_type": "markdown",
      "source": [
        "## Question-6"
      ],
      "metadata": {
        "id": "odMoQQhn0QmS"
      }
    },
    {
      "cell_type": "code",
      "source": [
        "# Compute Mean Squared Error (MSE)\n",
        "mse = mean_squared_error(y_test, y_pred)\n",
        "print(f\"Mean Squared Error: {mse:.3f}\")"
      ],
      "metadata": {
        "colab": {
          "base_uri": "https://localhost:8080/"
        },
        "id": "3j1cobTN0Cq_",
        "outputId": "106a852d-23f5-4e3b-ee2d-1e461aa5ea74"
      },
      "execution_count": 16,
      "outputs": [
        {
          "output_type": "stream",
          "name": "stdout",
          "text": [
            "Mean Squared Error: 0.495\n"
          ]
        }
      ]
    },
    {
      "cell_type": "markdown",
      "source": [
        "## Question-7"
      ],
      "metadata": {
        "id": "Pvbov8fB0TKO"
      }
    },
    {
      "cell_type": "code",
      "source": [
        "# Initialize and train SGDRegressor (Question 7)\n",
        "sgd_reg = SGDRegressor(random_state=0)\n",
        "sgd_reg.fit(X_train_scaled, y_train)\n",
        "\n",
        "# Get the bias term (intercept)\n",
        "bias_term = sgd_reg.intercept_[0]\n",
        "print(f\"Bias Term: {bias_term:.4f}\")"
      ],
      "metadata": {
        "colab": {
          "base_uri": "https://localhost:8080/"
        },
        "id": "NI3Zg7P40ND2",
        "outputId": "0c256a8c-ab92-48d2-e4f6-c2ff1fd20bec"
      },
      "execution_count": 17,
      "outputs": [
        {
          "output_type": "stream",
          "name": "stdout",
          "text": [
            "Bias Term: 2.0112\n"
          ]
        }
      ]
    },
    {
      "cell_type": "markdown",
      "source": [
        "## Question-8"
      ],
      "metadata": {
        "id": "MHH6wJ6Y0b84"
      }
    },
    {
      "cell_type": "code",
      "source": [
        "# Get the coefficients of the trained SGD model\n",
        "coefficients = sgd_reg.coef_\n",
        "print(\"Coefficients:\", np.round(coefficients, 4))"
      ],
      "metadata": {
        "colab": {
          "base_uri": "https://localhost:8080/"
        },
        "id": "2JK6T6UK0Vmm",
        "outputId": "34e9f345-9a91-4273-e1b3-51188e2ffb1e"
      },
      "execution_count": 18,
      "outputs": [
        {
          "output_type": "stream",
          "name": "stdout",
          "text": [
            "Coefficients: [ 0.8405  0.1123 -0.4121  0.216  -0.0178 -0.0148 -0.8739 -0.8391]\n"
          ]
        }
      ]
    },
    {
      "cell_type": "code",
      "source": [],
      "metadata": {
        "id": "IFfNvtu-0bF-"
      },
      "execution_count": null,
      "outputs": []
    }
  ]
}
