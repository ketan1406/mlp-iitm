{
  "nbformat": 4,
  "nbformat_minor": 0,
  "metadata": {
    "colab": {
      "provenance": []
    },
    "kernelspec": {
      "name": "python3",
      "display_name": "Python 3"
    },
    "language_info": {
      "name": "python"
    }
  },
  "cells": [
    {
      "cell_type": "code",
      "execution_count": null,
      "metadata": {
        "colab": {
          "base_uri": "https://localhost:8080/"
        },
        "id": "KWN1kTqX1c5E",
        "outputId": "16e8178a-8b10-42e4-efe1-89bd90455ffd"
      },
      "outputs": [
        {
          "output_type": "stream",
          "name": "stdout",
          "text": [
            "Drive already mounted at /content/drive; to attempt to forcibly remount, call drive.mount(\"/content/drive\", force_remount=True).\n"
          ]
        }
      ],
      "source": [
        "# Mount Google Drive\n",
        "from google.colab import drive\n",
        "drive.mount('/content/drive')"
      ]
    },
    {
      "cell_type": "code",
      "source": [
        "# Import libraries\n",
        "import pandas as pd\n",
        "import numpy as np\n",
        "import matplotlib.pyplot as plt\n",
        "import seaborn as sns\n",
        "from sklearn.model_selection import train_test_split\n",
        "from sklearn.linear_model import LinearRegression\n",
        "from sklearn.pipeline import Pipeline\n",
        "from sklearn.compose import ColumnTransformer\n",
        "from sklearn.impute import SimpleImputer\n",
        "from sklearn.preprocessing import MinMaxScaler, StandardScaler, OneHotEncoder\n",
        "\n",
        "# Set display options (optional)\n",
        "pd.set_option('display.max_columns', None)\n",
        "\n",
        "# Define the path to the dataset in the \"x\" folder on Google Drive\n",
        "# Change the filename here if you decide to use a different one\n",
        "data_path = '/content/drive/MyDrive/MLP/NPPE-1/Preprocessing/NPPE1_Preprocessing1.csv'\n",
        "\n",
        "# Load the dataset\n",
        "df = pd.read_csv(data_path)\n",
        "\n",
        "# Display the first few rows to confirm it's loaded correctly\n",
        "df.head()"
      ],
      "metadata": {
        "colab": {
          "base_uri": "https://localhost:8080/",
          "height": 206
        },
        "id": "FISny5IVEVIz",
        "outputId": "f55bd206-762f-4ba3-c883-ff1ea1da9506"
      },
      "execution_count": null,
      "outputs": [
        {
          "output_type": "execute_result",
          "data": {
            "text/plain": [
              "        CRIM         ZN      INDUS  POLINDEX   RM   AGE        DIS  \\\n",
              "0   1.026769   1.429034   7.851300  1.134216  6.0  42.0   5.251911   \n",
              "1   0.848089   0.255543   6.263434  1.245993  7.0  63.0   4.305546   \n",
              "2  10.925905   0.441022  18.322960  2.824833  8.0  -2.0   2.409495   \n",
              "3   0.559027   1.041175  11.114920  0.794952  6.0   9.0   6.898669   \n",
              "4   0.905063  81.167963   3.673369  1.029030  8.0  20.0  10.246463   \n",
              "\n",
              "   HIGHWAYCOUNT         TAX    PTRATIO         IMM        BPL      PRICE  \\\n",
              "0             5  279.201277  20.689586  398.811960  10.461456  22.991633   \n",
              "1             8  307.444529  17.465398  377.153649  11.619690  24.551055   \n",
              "2            25  666.492973  20.351601  387.061355  19.366070  15.875346   \n",
              "3             4  305.514181  19.787314  391.778647   6.206820  23.007756   \n",
              "4             1  315.913960  17.360439  395.833166  10.827105  21.503177   \n",
              "\n",
              "  RIVERSIDE  \n",
              "0        NO  \n",
              "1        NO  \n",
              "2        NO  \n",
              "3        NO  \n",
              "4        NO  "
            ],
            "text/html": [
              "\n",
              "  <div id=\"df-61774585-c37e-4e44-b1ab-bc4a70471df3\" class=\"colab-df-container\">\n",
              "    <div>\n",
              "<style scoped>\n",
              "    .dataframe tbody tr th:only-of-type {\n",
              "        vertical-align: middle;\n",
              "    }\n",
              "\n",
              "    .dataframe tbody tr th {\n",
              "        vertical-align: top;\n",
              "    }\n",
              "\n",
              "    .dataframe thead th {\n",
              "        text-align: right;\n",
              "    }\n",
              "</style>\n",
              "<table border=\"1\" class=\"dataframe\">\n",
              "  <thead>\n",
              "    <tr style=\"text-align: right;\">\n",
              "      <th></th>\n",
              "      <th>CRIM</th>\n",
              "      <th>ZN</th>\n",
              "      <th>INDUS</th>\n",
              "      <th>POLINDEX</th>\n",
              "      <th>RM</th>\n",
              "      <th>AGE</th>\n",
              "      <th>DIS</th>\n",
              "      <th>HIGHWAYCOUNT</th>\n",
              "      <th>TAX</th>\n",
              "      <th>PTRATIO</th>\n",
              "      <th>IMM</th>\n",
              "      <th>BPL</th>\n",
              "      <th>PRICE</th>\n",
              "      <th>RIVERSIDE</th>\n",
              "    </tr>\n",
              "  </thead>\n",
              "  <tbody>\n",
              "    <tr>\n",
              "      <th>0</th>\n",
              "      <td>1.026769</td>\n",
              "      <td>1.429034</td>\n",
              "      <td>7.851300</td>\n",
              "      <td>1.134216</td>\n",
              "      <td>6.0</td>\n",
              "      <td>42.0</td>\n",
              "      <td>5.251911</td>\n",
              "      <td>5</td>\n",
              "      <td>279.201277</td>\n",
              "      <td>20.689586</td>\n",
              "      <td>398.811960</td>\n",
              "      <td>10.461456</td>\n",
              "      <td>22.991633</td>\n",
              "      <td>NO</td>\n",
              "    </tr>\n",
              "    <tr>\n",
              "      <th>1</th>\n",
              "      <td>0.848089</td>\n",
              "      <td>0.255543</td>\n",
              "      <td>6.263434</td>\n",
              "      <td>1.245993</td>\n",
              "      <td>7.0</td>\n",
              "      <td>63.0</td>\n",
              "      <td>4.305546</td>\n",
              "      <td>8</td>\n",
              "      <td>307.444529</td>\n",
              "      <td>17.465398</td>\n",
              "      <td>377.153649</td>\n",
              "      <td>11.619690</td>\n",
              "      <td>24.551055</td>\n",
              "      <td>NO</td>\n",
              "    </tr>\n",
              "    <tr>\n",
              "      <th>2</th>\n",
              "      <td>10.925905</td>\n",
              "      <td>0.441022</td>\n",
              "      <td>18.322960</td>\n",
              "      <td>2.824833</td>\n",
              "      <td>8.0</td>\n",
              "      <td>-2.0</td>\n",
              "      <td>2.409495</td>\n",
              "      <td>25</td>\n",
              "      <td>666.492973</td>\n",
              "      <td>20.351601</td>\n",
              "      <td>387.061355</td>\n",
              "      <td>19.366070</td>\n",
              "      <td>15.875346</td>\n",
              "      <td>NO</td>\n",
              "    </tr>\n",
              "    <tr>\n",
              "      <th>3</th>\n",
              "      <td>0.559027</td>\n",
              "      <td>1.041175</td>\n",
              "      <td>11.114920</td>\n",
              "      <td>0.794952</td>\n",
              "      <td>6.0</td>\n",
              "      <td>9.0</td>\n",
              "      <td>6.898669</td>\n",
              "      <td>4</td>\n",
              "      <td>305.514181</td>\n",
              "      <td>19.787314</td>\n",
              "      <td>391.778647</td>\n",
              "      <td>6.206820</td>\n",
              "      <td>23.007756</td>\n",
              "      <td>NO</td>\n",
              "    </tr>\n",
              "    <tr>\n",
              "      <th>4</th>\n",
              "      <td>0.905063</td>\n",
              "      <td>81.167963</td>\n",
              "      <td>3.673369</td>\n",
              "      <td>1.029030</td>\n",
              "      <td>8.0</td>\n",
              "      <td>20.0</td>\n",
              "      <td>10.246463</td>\n",
              "      <td>1</td>\n",
              "      <td>315.913960</td>\n",
              "      <td>17.360439</td>\n",
              "      <td>395.833166</td>\n",
              "      <td>10.827105</td>\n",
              "      <td>21.503177</td>\n",
              "      <td>NO</td>\n",
              "    </tr>\n",
              "  </tbody>\n",
              "</table>\n",
              "</div>\n",
              "    <div class=\"colab-df-buttons\">\n",
              "\n",
              "  <div class=\"colab-df-container\">\n",
              "    <button class=\"colab-df-convert\" onclick=\"convertToInteractive('df-61774585-c37e-4e44-b1ab-bc4a70471df3')\"\n",
              "            title=\"Convert this dataframe to an interactive table.\"\n",
              "            style=\"display:none;\">\n",
              "\n",
              "  <svg xmlns=\"http://www.w3.org/2000/svg\" height=\"24px\" viewBox=\"0 -960 960 960\">\n",
              "    <path d=\"M120-120v-720h720v720H120Zm60-500h600v-160H180v160Zm220 220h160v-160H400v160Zm0 220h160v-160H400v160ZM180-400h160v-160H180v160Zm440 0h160v-160H620v160ZM180-180h160v-160H180v160Zm440 0h160v-160H620v160Z\"/>\n",
              "  </svg>\n",
              "    </button>\n",
              "\n",
              "  <style>\n",
              "    .colab-df-container {\n",
              "      display:flex;\n",
              "      gap: 12px;\n",
              "    }\n",
              "\n",
              "    .colab-df-convert {\n",
              "      background-color: #E8F0FE;\n",
              "      border: none;\n",
              "      border-radius: 50%;\n",
              "      cursor: pointer;\n",
              "      display: none;\n",
              "      fill: #1967D2;\n",
              "      height: 32px;\n",
              "      padding: 0 0 0 0;\n",
              "      width: 32px;\n",
              "    }\n",
              "\n",
              "    .colab-df-convert:hover {\n",
              "      background-color: #E2EBFA;\n",
              "      box-shadow: 0px 1px 2px rgba(60, 64, 67, 0.3), 0px 1px 3px 1px rgba(60, 64, 67, 0.15);\n",
              "      fill: #174EA6;\n",
              "    }\n",
              "\n",
              "    .colab-df-buttons div {\n",
              "      margin-bottom: 4px;\n",
              "    }\n",
              "\n",
              "    [theme=dark] .colab-df-convert {\n",
              "      background-color: #3B4455;\n",
              "      fill: #D2E3FC;\n",
              "    }\n",
              "\n",
              "    [theme=dark] .colab-df-convert:hover {\n",
              "      background-color: #434B5C;\n",
              "      box-shadow: 0px 1px 3px 1px rgba(0, 0, 0, 0.15);\n",
              "      filter: drop-shadow(0px 1px 2px rgba(0, 0, 0, 0.3));\n",
              "      fill: #FFFFFF;\n",
              "    }\n",
              "  </style>\n",
              "\n",
              "    <script>\n",
              "      const buttonEl =\n",
              "        document.querySelector('#df-61774585-c37e-4e44-b1ab-bc4a70471df3 button.colab-df-convert');\n",
              "      buttonEl.style.display =\n",
              "        google.colab.kernel.accessAllowed ? 'block' : 'none';\n",
              "\n",
              "      async function convertToInteractive(key) {\n",
              "        const element = document.querySelector('#df-61774585-c37e-4e44-b1ab-bc4a70471df3');\n",
              "        const dataTable =\n",
              "          await google.colab.kernel.invokeFunction('convertToInteractive',\n",
              "                                                    [key], {});\n",
              "        if (!dataTable) return;\n",
              "\n",
              "        const docLinkHtml = 'Like what you see? Visit the ' +\n",
              "          '<a target=\"_blank\" href=https://colab.research.google.com/notebooks/data_table.ipynb>data table notebook</a>'\n",
              "          + ' to learn more about interactive tables.';\n",
              "        element.innerHTML = '';\n",
              "        dataTable['output_type'] = 'display_data';\n",
              "        await google.colab.output.renderOutput(dataTable, element);\n",
              "        const docLink = document.createElement('div');\n",
              "        docLink.innerHTML = docLinkHtml;\n",
              "        element.appendChild(docLink);\n",
              "      }\n",
              "    </script>\n",
              "  </div>\n",
              "\n",
              "\n",
              "<div id=\"df-b726a74b-edce-4349-a02a-3e69dc550900\">\n",
              "  <button class=\"colab-df-quickchart\" onclick=\"quickchart('df-b726a74b-edce-4349-a02a-3e69dc550900')\"\n",
              "            title=\"Suggest charts\"\n",
              "            style=\"display:none;\">\n",
              "\n",
              "<svg xmlns=\"http://www.w3.org/2000/svg\" height=\"24px\"viewBox=\"0 0 24 24\"\n",
              "     width=\"24px\">\n",
              "    <g>\n",
              "        <path d=\"M19 3H5c-1.1 0-2 .9-2 2v14c0 1.1.9 2 2 2h14c1.1 0 2-.9 2-2V5c0-1.1-.9-2-2-2zM9 17H7v-7h2v7zm4 0h-2V7h2v10zm4 0h-2v-4h2v4z\"/>\n",
              "    </g>\n",
              "</svg>\n",
              "  </button>\n",
              "\n",
              "<style>\n",
              "  .colab-df-quickchart {\n",
              "      --bg-color: #E8F0FE;\n",
              "      --fill-color: #1967D2;\n",
              "      --hover-bg-color: #E2EBFA;\n",
              "      --hover-fill-color: #174EA6;\n",
              "      --disabled-fill-color: #AAA;\n",
              "      --disabled-bg-color: #DDD;\n",
              "  }\n",
              "\n",
              "  [theme=dark] .colab-df-quickchart {\n",
              "      --bg-color: #3B4455;\n",
              "      --fill-color: #D2E3FC;\n",
              "      --hover-bg-color: #434B5C;\n",
              "      --hover-fill-color: #FFFFFF;\n",
              "      --disabled-bg-color: #3B4455;\n",
              "      --disabled-fill-color: #666;\n",
              "  }\n",
              "\n",
              "  .colab-df-quickchart {\n",
              "    background-color: var(--bg-color);\n",
              "    border: none;\n",
              "    border-radius: 50%;\n",
              "    cursor: pointer;\n",
              "    display: none;\n",
              "    fill: var(--fill-color);\n",
              "    height: 32px;\n",
              "    padding: 0;\n",
              "    width: 32px;\n",
              "  }\n",
              "\n",
              "  .colab-df-quickchart:hover {\n",
              "    background-color: var(--hover-bg-color);\n",
              "    box-shadow: 0 1px 2px rgba(60, 64, 67, 0.3), 0 1px 3px 1px rgba(60, 64, 67, 0.15);\n",
              "    fill: var(--button-hover-fill-color);\n",
              "  }\n",
              "\n",
              "  .colab-df-quickchart-complete:disabled,\n",
              "  .colab-df-quickchart-complete:disabled:hover {\n",
              "    background-color: var(--disabled-bg-color);\n",
              "    fill: var(--disabled-fill-color);\n",
              "    box-shadow: none;\n",
              "  }\n",
              "\n",
              "  .colab-df-spinner {\n",
              "    border: 2px solid var(--fill-color);\n",
              "    border-color: transparent;\n",
              "    border-bottom-color: var(--fill-color);\n",
              "    animation:\n",
              "      spin 1s steps(1) infinite;\n",
              "  }\n",
              "\n",
              "  @keyframes spin {\n",
              "    0% {\n",
              "      border-color: transparent;\n",
              "      border-bottom-color: var(--fill-color);\n",
              "      border-left-color: var(--fill-color);\n",
              "    }\n",
              "    20% {\n",
              "      border-color: transparent;\n",
              "      border-left-color: var(--fill-color);\n",
              "      border-top-color: var(--fill-color);\n",
              "    }\n",
              "    30% {\n",
              "      border-color: transparent;\n",
              "      border-left-color: var(--fill-color);\n",
              "      border-top-color: var(--fill-color);\n",
              "      border-right-color: var(--fill-color);\n",
              "    }\n",
              "    40% {\n",
              "      border-color: transparent;\n",
              "      border-right-color: var(--fill-color);\n",
              "      border-top-color: var(--fill-color);\n",
              "    }\n",
              "    60% {\n",
              "      border-color: transparent;\n",
              "      border-right-color: var(--fill-color);\n",
              "    }\n",
              "    80% {\n",
              "      border-color: transparent;\n",
              "      border-right-color: var(--fill-color);\n",
              "      border-bottom-color: var(--fill-color);\n",
              "    }\n",
              "    90% {\n",
              "      border-color: transparent;\n",
              "      border-bottom-color: var(--fill-color);\n",
              "    }\n",
              "  }\n",
              "</style>\n",
              "\n",
              "  <script>\n",
              "    async function quickchart(key) {\n",
              "      const quickchartButtonEl =\n",
              "        document.querySelector('#' + key + ' button');\n",
              "      quickchartButtonEl.disabled = true;  // To prevent multiple clicks.\n",
              "      quickchartButtonEl.classList.add('colab-df-spinner');\n",
              "      try {\n",
              "        const charts = await google.colab.kernel.invokeFunction(\n",
              "            'suggestCharts', [key], {});\n",
              "      } catch (error) {\n",
              "        console.error('Error during call to suggestCharts:', error);\n",
              "      }\n",
              "      quickchartButtonEl.classList.remove('colab-df-spinner');\n",
              "      quickchartButtonEl.classList.add('colab-df-quickchart-complete');\n",
              "    }\n",
              "    (() => {\n",
              "      let quickchartButtonEl =\n",
              "        document.querySelector('#df-b726a74b-edce-4349-a02a-3e69dc550900 button');\n",
              "      quickchartButtonEl.style.display =\n",
              "        google.colab.kernel.accessAllowed ? 'block' : 'none';\n",
              "    })();\n",
              "  </script>\n",
              "</div>\n",
              "\n",
              "    </div>\n",
              "  </div>\n"
            ],
            "application/vnd.google.colaboratory.intrinsic+json": {
              "type": "dataframe",
              "variable_name": "df",
              "summary": "{\n  \"name\": \"df\",\n  \"rows\": 4000,\n  \"fields\": [\n    {\n      \"column\": \"CRIM\",\n      \"properties\": {\n        \"dtype\": \"number\",\n        \"std\": 2.4756462622728774,\n        \"min\": 0.0310930438582509,\n        \"max\": 12.619405277902771,\n        \"num_unique_values\": 4000,\n        \"samples\": [\n          10.831224921095714,\n          0.953207752853487,\n          5.781132959514714\n        ],\n        \"semantic_type\": \"\",\n        \"description\": \"\"\n      }\n    },\n    {\n      \"column\": \"ZN\",\n      \"properties\": {\n        \"dtype\": \"number\",\n        \"std\": 23.312648793994484,\n        \"min\": 0.0002814402235964,\n        \"max\": 101.67073973465143,\n        \"num_unique_values\": 4000,\n        \"samples\": [\n          0.4565955423160071,\n          22.58564221235115,\n          0.5626399885644546\n        ],\n        \"semantic_type\": \"\",\n        \"description\": \"\"\n      }\n    },\n    {\n      \"column\": \"INDUS\",\n      \"properties\": {\n        \"dtype\": \"number\",\n        \"std\": 6.827508528281335,\n        \"min\": 0.6333879398140939,\n        \"max\": 30.36720906351064,\n        \"num_unique_values\": 4000,\n        \"samples\": [\n          18.3465226507992,\n          6.370536592918024,\n          19.6492039971422\n        ],\n        \"semantic_type\": \"\",\n        \"description\": \"\"\n      }\n    },\n    {\n      \"column\": \"POLINDEX\",\n      \"properties\": {\n        \"dtype\": \"number\",\n        \"std\": 0.6010235583614255,\n        \"min\": 0.4050847999570661,\n        \"max\": 4.156570046265983,\n        \"num_unique_values\": 4000,\n        \"samples\": [\n          0.8787669990613265,\n          1.3178252880593984,\n          2.383613383451163\n        ],\n        \"semantic_type\": \"\",\n        \"description\": \"\"\n      }\n    },\n    {\n      \"column\": \"RM\",\n      \"properties\": {\n        \"dtype\": \"number\",\n        \"std\": 1.240525886920178,\n        \"min\": -1.0,\n        \"max\": 11.0,\n        \"num_unique_values\": 9,\n        \"samples\": [\n          4.0,\n          7.0,\n          -1.0\n        ],\n        \"semantic_type\": \"\",\n        \"description\": \"\"\n      }\n    },\n    {\n      \"column\": \"AGE\",\n      \"properties\": {\n        \"dtype\": \"number\",\n        \"std\": 29.10092250982311,\n        \"min\": -2.0,\n        \"max\": 103.0,\n        \"num_unique_values\": 102,\n        \"samples\": [\n          93.0,\n          79.0,\n          45.0\n        ],\n        \"semantic_type\": \"\",\n        \"description\": \"\"\n      }\n    },\n    {\n      \"column\": \"DIS\",\n      \"properties\": {\n        \"dtype\": \"number\",\n        \"std\": 2.174427190759426,\n        \"min\": 1.163081974016663,\n        \"max\": 14.045317837400347,\n        \"num_unique_values\": 4000,\n        \"samples\": [\n          2.121423729026626,\n          8.360003011817742,\n          3.276015197630771\n        ],\n        \"semantic_type\": \"\",\n        \"description\": \"\"\n      }\n    },\n    {\n      \"column\": \"HIGHWAYCOUNT\",\n      \"properties\": {\n        \"dtype\": \"number\",\n        \"std\": 7,\n        \"min\": 1,\n        \"max\": 27,\n        \"num_unique_values\": 15,\n        \"samples\": [\n          3,\n          10,\n          5\n        ],\n        \"semantic_type\": \"\",\n        \"description\": \"\"\n      }\n    },\n    {\n      \"column\": \"TAX\",\n      \"properties\": {\n        \"dtype\": \"number\",\n        \"std\": 150.270818062805,\n        \"min\": 187.0250989029544,\n        \"max\": 713.0281332130706,\n        \"num_unique_values\": 4000,\n        \"samples\": [\n          666.7737254901376,\n          330.2367374981048,\n          666.8191889914782\n        ],\n        \"semantic_type\": \"\",\n        \"description\": \"\"\n      }\n    },\n    {\n      \"column\": \"PTRATIO\",\n      \"properties\": {\n        \"dtype\": \"number\",\n        \"std\": 2.2672931299145693,\n        \"min\": 12.641899141366697,\n        \"max\": 24.322091262098887,\n        \"num_unique_values\": 4000,\n        \"samples\": [\n          20.3751522578949,\n          20.27653854707035,\n          21.379232569949977\n        ],\n        \"semantic_type\": \"\",\n        \"description\": \"\"\n      }\n    },\n    {\n      \"column\": \"IMM\",\n      \"properties\": {\n        \"dtype\": \"number\",\n        \"std\": 67.68758632464606,\n        \"min\": 0.5329802728126296,\n        \"max\": 400.7805827462825,\n        \"num_unique_values\": 4000,\n        \"samples\": [\n          387.7735652778036,\n          390.541475574156,\n          10.537791860822836\n        ],\n        \"semantic_type\": \"\",\n        \"description\": \"\"\n      }\n    },\n    {\n      \"column\": \"BPL\",\n      \"properties\": {\n        \"dtype\": \"number\",\n        \"std\": 6.143059504735248,\n        \"min\": 1.9862953413087248,\n        \"max\": 35.99728129531004,\n        \"num_unique_values\": 4000,\n        \"samples\": [\n          19.50195563710608,\n          9.967248102302412,\n          19.71927265986072\n        ],\n        \"semantic_type\": \"\",\n        \"description\": \"\"\n      }\n    },\n    {\n      \"column\": \"PRICE\",\n      \"properties\": {\n        \"dtype\": \"number\",\n        \"std\": 8.633523119748661,\n        \"min\": 6.3482657858979215,\n        \"max\": 53.09025591497754,\n        \"num_unique_values\": 4000,\n        \"samples\": [\n          16.913047426817688,\n          25.04725435512905,\n          14.44370427335717\n        ],\n        \"semantic_type\": \"\",\n        \"description\": \"\"\n      }\n    },\n    {\n      \"column\": \"RIVERSIDE\",\n      \"properties\": {\n        \"dtype\": \"category\",\n        \"num_unique_values\": 3,\n        \"samples\": [\n          \"NO\",\n          \"UNKNOWN\",\n          \"YES\"\n        ],\n        \"semantic_type\": \"\",\n        \"description\": \"\"\n      }\n    }\n  ]\n}"
            }
          },
          "metadata": {},
          "execution_count": 29
        }
      ]
    },
    {
      "cell_type": "code",
      "source": [
        "# A helper function to truncate values to 3 decimal places (without rounding off)\n",
        "import math\n",
        "def truncate(num, digits=3):\n",
        "    stepper = 10.0 ** digits\n",
        "    return math.floor(num * stepper) / stepper"
      ],
      "metadata": {
        "id": "0UnVN6vR20wT"
      },
      "execution_count": null,
      "outputs": []
    },
    {
      "cell_type": "markdown",
      "source": [
        "## Q2 How many samples are there in the dataset?"
      ],
      "metadata": {
        "id": "PSxBEqU415ax"
      }
    },
    {
      "cell_type": "code",
      "source": [
        "df.shape[0]"
      ],
      "metadata": {
        "colab": {
          "base_uri": "https://localhost:8080/"
        },
        "id": "WMZrLg9J1fjV",
        "outputId": "74dbec3a-f4cd-447b-ed9e-e759fffa0771"
      },
      "execution_count": null,
      "outputs": [
        {
          "output_type": "execute_result",
          "data": {
            "text/plain": [
              "4000"
            ]
          },
          "metadata": {},
          "execution_count": 3
        }
      ]
    },
    {
      "cell_type": "markdown",
      "source": [
        "## Q3 What is the average house price (in lacs)?"
      ],
      "metadata": {
        "id": "86uIRNHK2cMu"
      }
    },
    {
      "cell_type": "code",
      "source": [
        "avg_price = df['PRICE'].mean()\n",
        "avg_price_trunc = truncate(avg_price, 3)\n",
        "print(\"Average house price (in lacs) [truncated to 3 decimals]:\", avg_price_trunc)"
      ],
      "metadata": {
        "colab": {
          "base_uri": "https://localhost:8080/"
        },
        "id": "kg5ke89h2byj",
        "outputId": "620eff1c-4313-41bb-d907-96eeca3fcba6"
      },
      "execution_count": null,
      "outputs": [
        {
          "output_type": "stream",
          "name": "stdout",
          "text": [
            "Average house price (in lacs) [truncated to 3 decimals]: 24.355\n"
          ]
        }
      ]
    },
    {
      "cell_type": "markdown",
      "source": [
        "## Q4 How many houses have 5 or more rooms?"
      ],
      "metadata": {
        "id": "hum6-JZt3Bu5"
      }
    },
    {
      "cell_type": "code",
      "source": [
        "houses_with_5_or_more_rooms = df[df['RM'] >= 5].shape[0]\n",
        "print(\"Number of houses with 5 or more rooms:\", houses_with_5_or_more_rooms)"
      ],
      "metadata": {
        "colab": {
          "base_uri": "https://localhost:8080/"
        },
        "id": "QnU0WlEJ2Yka",
        "outputId": "5dbb67d7-5459-4157-ca59-a02b03179ee6"
      },
      "execution_count": null,
      "outputs": [
        {
          "output_type": "stream",
          "name": "stdout",
          "text": [
            "Number of houses with 5 or more rooms: 3953\n"
          ]
        }
      ]
    },
    {
      "cell_type": "markdown",
      "source": [
        "## Q5 What is the average price of the top 10 most expensive houses (in lacs)?"
      ],
      "metadata": {
        "id": "nLsO0dpZ3SuG"
      }
    },
    {
      "cell_type": "code",
      "source": [
        "top10_avg_price = df.sort_values(by='PRICE', ascending=False).head(10)['PRICE'].mean()\n",
        "top10_avg_price_trunc = truncate(top10_avg_price, 3)\n",
        "print(\"Average price of the top 10 most expensive houses (in lacs) [truncated]:\", top10_avg_price_trunc)"
      ],
      "metadata": {
        "colab": {
          "base_uri": "https://localhost:8080/"
        },
        "id": "B4hlXtOI3Nqy",
        "outputId": "8289352e-57f9-4b8b-ea7c-348150279455"
      },
      "execution_count": null,
      "outputs": [
        {
          "output_type": "stream",
          "name": "stdout",
          "text": [
            "Average price of the top 10 most expensive houses (in lacs) [truncated]: 52.365\n"
          ]
        }
      ]
    },
    {
      "cell_type": "markdown",
      "source": [
        "## Q6 What is the total number of missing or unknown values in the number of rooms (RM) feature?\n",
        "### Hint: First inspect the unique values to decide which values are implausible."
      ],
      "metadata": {
        "id": "C8ULj2ur3nsX"
      }
    },
    {
      "cell_type": "code",
      "source": [
        "print(\"Unique values in RM:\", df['RM'].unique())\n",
        "# For instance, if implausible values are those that are less than 1:\n",
        "unknown_rm = df[df['RM'] < 1].shape[0]\n",
        "print(\"Total missing/unknown values in RM:\", unknown_rm)"
      ],
      "metadata": {
        "colab": {
          "base_uri": "https://localhost:8080/"
        },
        "id": "bUVwQq3Q3b3C",
        "outputId": "65758506-b2e0-44e3-83d6-1034748eb982"
      },
      "execution_count": null,
      "outputs": [
        {
          "output_type": "stream",
          "name": "stdout",
          "text": [
            "Unique values in RM: [ 6.  7.  8.  9. 10. -1.  5.  4. 11.]\n",
            "Total missing/unknown values in RM: 40\n"
          ]
        }
      ]
    },
    {
      "cell_type": "markdown",
      "source": [
        "## Q7 What is the total number of missing or unknown values in the age (AGE) feature?"
      ],
      "metadata": {
        "id": "WODsc2ao35Jl"
      }
    },
    {
      "cell_type": "code",
      "source": [
        "print(\"Unique values in AGE:\", df['AGE'].unique())\n",
        "# Assuming implausible values are those less than 0:\n",
        "unknown_age = df[df['AGE'] < 0].shape[0]\n",
        "print(\"Total missing/unknown values in AGE:\", unknown_age)"
      ],
      "metadata": {
        "colab": {
          "base_uri": "https://localhost:8080/"
        },
        "id": "2W9C8avd3wlK",
        "outputId": "c8af1a26-a3e6-4642-d867-ca49a17a8fce"
      },
      "execution_count": null,
      "outputs": [
        {
          "output_type": "stream",
          "name": "stdout",
          "text": [
            "Unique values in AGE: [ 42.  63.  -2.   9.  20.  95.  35.  97.  36.  78.  99.  96.  19.  73.\n",
            "  86.  37.  76.  50.  32.  92. 101.   8.  94.  84.  47.  43.  65.  46.\n",
            "  59.  74.  93.  80.  98. 102.  56. 100.  89.  53.  18.  71.  62.  83.\n",
            "  66.   7.  77.  91.  90.  58.  57.  60.  87.  75.  34.  85.  48.  33.\n",
            "  38.  30.  23.  55.  11.  14.  45.  41.  88.  16.  12.  79.  67.  39.\n",
            "  49.  61.  70.  54.  10.  22.  72.  15.  51.  81.  31.  52.  44.  28.\n",
            "  17.  40.  29.  69.  64.  24.  82.  26.  68.  27.  13. 103.  21.  25.\n",
            "   6.   5.   3.   4.]\n",
            "Total missing/unknown values in AGE: 50\n"
          ]
        }
      ]
    },
    {
      "cell_type": "markdown",
      "source": [
        "## Q8 What is the total number of missing or unknown values in the RIVERSIDE feature?"
      ],
      "metadata": {
        "id": "NT3QlaCH4Hu7"
      }
    },
    {
      "cell_type": "code",
      "source": [
        "print(\"Unique values in RIVERSIDE:\", df['RIVERSIDE'].unique())\n",
        "# Since RIVERSIDE is supposed to be binary (0 or 1), any value not in [0, 1] can be considered implausible:\n",
        "unknown_riverside = (df['RIVERSIDE'] == 'UNKNOWN').sum()\n",
        "print(\"Total missing/unknown values in RIVERSIDE:\", unknown_riverside)"
      ],
      "metadata": {
        "colab": {
          "base_uri": "https://localhost:8080/"
        },
        "id": "EqZe8eZa4BZB",
        "outputId": "b4414dfe-dcfd-410b-c928-1aed075b3fc5"
      },
      "execution_count": null,
      "outputs": [
        {
          "output_type": "stream",
          "name": "stdout",
          "text": [
            "Unique values in RIVERSIDE: ['NO' 'UNKNOWN' 'YES']\n",
            "Total missing/unknown values in RIVERSIDE: 88\n"
          ]
        }
      ]
    },
    {
      "cell_type": "markdown",
      "source": [
        "## Q9 How many houses are on riverside and were built within the last 50 years (i.e. a house 50 years old or younger)? For this question, ignore the rows that have missing values in either riverside feature or age feature."
      ],
      "metadata": {
        "id": "2zLPxzh9Boiw"
      }
    },
    {
      "cell_type": "code",
      "source": [
        "# First, filter out rows with missing/unknown values in RIVERSIDE or AGE:\n",
        "mask_valid = df['RIVERSIDE'].isin(['YES', 'NO']) & df['AGE'].notna()\n",
        "# Then, filter for houses on riverside and built in the last 50 years:\n",
        "mask_condition = (df['RIVERSIDE'] == 'YES') & (df['AGE'] <= 50)\n",
        "count_riverside_recent = df[mask_valid & mask_condition].shape[0]\n",
        "print(\"Number of houses on riverside built within last 50 years:\", count_riverside_recent)"
      ],
      "metadata": {
        "colab": {
          "base_uri": "https://localhost:8080/"
        },
        "id": "Z1Jb74CKCrub",
        "outputId": "fd439e12-e7a4-4d24-d09d-aff460f12d57"
      },
      "execution_count": null,
      "outputs": [
        {
          "output_type": "stream",
          "name": "stdout",
          "text": [
            "Number of houses on riverside built within last 50 years: 53\n"
          ]
        }
      ]
    },
    {
      "cell_type": "markdown",
      "source": [
        "## Q10 How many houses are near to exactly 6, 7 or 8 highways (all three inclusive)?"
      ],
      "metadata": {
        "id": "IZ4bQi1xBtRp"
      }
    },
    {
      "cell_type": "code",
      "source": [
        "# (Check HIGHWAYCOUNT column for values exactly 6, 7 or 8)\n",
        "mask_highways = df['HIGHWAYCOUNT'].isin([6, 7, 8])\n",
        "count_highways = df[mask_highways].shape[0]\n",
        "print(\"Number of houses near exactly 6, 7 or 8 highways:\", count_highways)\n"
      ],
      "metadata": {
        "colab": {
          "base_uri": "https://localhost:8080/"
        },
        "id": "zMR4XAMADVKs",
        "outputId": "c1f4b175-e0d0-4aea-8d94-efff3d1084a3"
      },
      "execution_count": null,
      "outputs": [
        {
          "output_type": "stream",
          "name": "stdout",
          "text": [
            "Number of houses near exactly 6, 7 or 8 highways: 1211\n"
          ]
        }
      ]
    },
    {
      "cell_type": "markdown",
      "source": [
        "## Q11 Create a column 'CATEGORY' and divide the houses in categories as following:\n",
        "\n",
        "- Category 1: house price <10 lacs\n",
        "- Category 2: 10 lacs <= house price <20 lacs\n",
        "- Category 3: 20 lacs <= house price <30 lacs\n",
        "- Category 4: 30 lacs <= house price <40 lacs\n",
        "- Category 5: house price >=40 lacs\n",
        "\n",
        "Which category has the highest number of records?"
      ],
      "metadata": {
        "id": "i1qatoGKBzhS"
      }
    },
    {
      "cell_type": "code",
      "source": [
        "def assign_category(price):\n",
        "    if price < 10:\n",
        "        return 1\n",
        "    elif price < 20:\n",
        "        return 2\n",
        "    elif price < 30:\n",
        "        return 3\n",
        "    elif price < 40:\n",
        "        return 4\n",
        "    else:\n",
        "        return 5\n",
        "\n",
        "df['CATEGORY'] = df['PRICE'].apply(assign_category)\n",
        "category_counts = df['CATEGORY'].value_counts()\n",
        "print(\"Category counts:\\n\", category_counts)\n",
        "print(\"Category with highest number of records:\", category_counts.idxmax())\n"
      ],
      "metadata": {
        "colab": {
          "base_uri": "https://localhost:8080/"
        },
        "id": "qRFtyfH_Dho3",
        "outputId": "4a4082d3-20ea-4033-e49c-66fe060bcd26"
      },
      "execution_count": null,
      "outputs": [
        {
          "output_type": "stream",
          "name": "stdout",
          "text": [
            "Category counts:\n",
            " CATEGORY\n",
            "3    2028\n",
            "2    1158\n",
            "4     503\n",
            "5     268\n",
            "1      43\n",
            "Name: count, dtype: int64\n",
            "Category with highest number of records: 3\n"
          ]
        }
      ]
    },
    {
      "cell_type": "markdown",
      "source": [
        "## Q12 Apply Pre processing\n",
        "Divide the data into training and test sets\n",
        "\n",
        "1. Replace the respective missing or unknown values in features room count, riverside and age with np.nan.\n",
        "2. Keep 30% of the data as test set.\n",
        "3. Use random_state as 0\n",
        "4. PRICE is the target, rest of the columns are the features.\n",
        "5. Apply train test split.\n",
        "Hint: look for the documentation of the usual function that divides the data into training and test datasets.\n",
        "\n",
        "What is the number of samples in the training set?"
      ],
      "metadata": {
        "id": "7PjzRUg8B_Nv"
      }
    },
    {
      "cell_type": "code",
      "source": [
        "#    (Assuming any occurrence of \"UNKNOWN\" should be replaced.)\n",
        "for col in ['RM', 'RIVERSIDE', 'AGE']:\n",
        "    df[col] = df[col].replace(\"UNKNOWN\", np.nan)\n",
        "\n",
        "# 2. Split data into features (X) and target (y), where PRICE is target.\n",
        "X = df.drop(columns=['PRICE'])\n",
        "y = df['PRICE']\n",
        "\n",
        "# 3. Apply train_test_split with 30% as test and random_state=0.\n",
        "X_train, X_test, y_train, y_test = train_test_split(X, y, test_size=0.3, random_state=0)\n",
        "print(\"Number of samples in the training set:\", X_train.shape[0])"
      ],
      "metadata": {
        "colab": {
          "base_uri": "https://localhost:8080/"
        },
        "id": "vz6wcBJyDucO",
        "outputId": "c78f6c38-1bf4-4935-bda3-a15408244438"
      },
      "execution_count": null,
      "outputs": [
        {
          "output_type": "stream",
          "name": "stdout",
          "text": [
            "Number of samples in the training set: 2800\n"
          ]
        }
      ]
    },
    {
      "cell_type": "markdown",
      "source": [
        "## Q13 Apply following preprocessing steps:\n",
        "\n",
        "1. Drop CATEGORY column\n",
        "2. CRIM: min max scaling\n",
        "3. ZN: min max scaling\n",
        "4. INDUS: standard scaling\n",
        "5. POLINDEX: min max scaling\n",
        "6. DIS: min max scaling\n",
        "7. HIGHWAYCOUNT: min max scaling\n",
        "8. TAX: min max scaling\n",
        "9. PTRATIO: min max scaling\n",
        "10. IMM: min max scaling\n",
        "11. BPL: min max scaling\n",
        "12. RM: impute with median then min max scaling\n",
        "13. AGE: impute with mean then min max scaling\n",
        "14. RIVERSIDE: Impute with most frequent value then one hot encode.\n",
        "\n",
        "NOTE:\n",
        "1. Make sure to preprocess the features in exactly above order. Answer of Q.16 depends upon correct order of featuring processing.\n",
        "2. You may have to use multiple instances of a trasnformer for this question.\n",
        "\n",
        "\n",
        "How many features are there after performing above transformation?"
      ],
      "metadata": {
        "id": "p4QKld2ACJ33"
      }
    },
    {
      "cell_type": "code",
      "source": [
        "# First, drop the 'CATEGORY' column if it exists.\n",
        "X_train_proc = X_train.drop(columns=['CATEGORY'], errors='ignore')\n",
        "X_test_proc  = X_test.drop(columns=['CATEGORY'], errors='ignore')\n",
        "\n",
        "# Define the groups of columns and corresponding transformers.\n",
        "minmax_cols = ['CRIM', 'ZN', 'POLINDEX', 'DIS', 'HIGHWAYCOUNT', 'TAX', 'PTRATIO', 'IMM', 'BPL']\n",
        "\n",
        "# For RM: impute with median then min-max scaling.\n",
        "rm_pipe = Pipeline(steps=[\n",
        "    ('imputer', SimpleImputer(strategy='median')),\n",
        "    ('scaler', MinMaxScaler())\n",
        "])\n",
        "\n",
        "# For AGE: impute with mean then min-max scaling.\n",
        "age_pipe = Pipeline(steps=[\n",
        "    ('imputer', SimpleImputer(strategy='mean')),\n",
        "    ('scaler', MinMaxScaler())\n",
        "])\n",
        "\n",
        "# For INDUS: standard scaling.\n",
        "# For RIVERSIDE: impute with most frequent then one-hot encode.\n",
        "riverside_pipe = Pipeline(steps=[\n",
        "    ('imputer', SimpleImputer(strategy='most_frequent')),\n",
        "    ('onehot', OneHotEncoder(sparse_output=False, handle_unknown='ignore'))\n",
        "])\n",
        "\n",
        "# Build a ColumnTransformer to apply the transformations.\n",
        "preprocessor = ColumnTransformer(transformers=[\n",
        "    ('minmax', MinMaxScaler(), minmax_cols),\n",
        "    ('indus', StandardScaler(), ['INDUS']),\n",
        "    ('rm', rm_pipe, ['RM']),\n",
        "    ('age', age_pipe, ['AGE']),\n",
        "    ('riverside', riverside_pipe, ['RIVERSIDE'])\n",
        "], remainder='drop')\n",
        "\n",
        "# Fit the preprocessor on the training data and transform both training and test sets.\n",
        "X_train_transformed = preprocessor.fit_transform(X_train_proc)\n",
        "print(\"Number of features after transformation:\", X_train_transformed.shape[1])"
      ],
      "metadata": {
        "colab": {
          "base_uri": "https://localhost:8080/"
        },
        "id": "EilVHu7LD5oB",
        "outputId": "986d2690-0d16-4b9b-e0f4-0a0da085b23d"
      },
      "execution_count": null,
      "outputs": [
        {
          "output_type": "stream",
          "name": "stdout",
          "text": [
            "Number of features after transformation: 14\n"
          ]
        }
      ]
    },
    {
      "cell_type": "markdown",
      "source": [
        "## Q14 What is the mean of the transformed test data (features only)?\n",
        "Note : Compute the mean of the whole feature matrix i.e. mean of all values in the transformed test feature matrix\n"
      ],
      "metadata": {
        "id": "7gegDqaoCQFM"
      }
    },
    {
      "cell_type": "code",
      "source": [
        "X_test_transformed = preprocessor.transform(X_test_proc)\n",
        "overall_mean = X_test_transformed.mean()  # Mean of all values in the feature matrix\n",
        "print(\"Mean of the transformed test feature matrix:\", overall_mean)"
      ],
      "metadata": {
        "colab": {
          "base_uri": "https://localhost:8080/"
        },
        "id": "BztzvQEbEjfQ",
        "outputId": "c24f8c18-ecd4-4587-a5cd-c3ac42825c11"
      },
      "execution_count": null,
      "outputs": [
        {
          "output_type": "stream",
          "name": "stdout",
          "text": [
            "Mean of the transformed test feature matrix: 0.40315397580513196\n"
          ]
        }
      ]
    },
    {
      "cell_type": "code",
      "source": [],
      "metadata": {
        "id": "-I2eoCRQEzkD"
      },
      "execution_count": null,
      "outputs": []
    }
  ]
}